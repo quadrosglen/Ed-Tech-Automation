{
  "nbformat": 4,
  "nbformat_minor": 0,
  "metadata": {
    "colab": {
      "provenance": []
    },
    "kernelspec": {
      "name": "python3",
      "display_name": "Python 3"
    },
    "language_info": {
      "name": "python"
    }
  },
  "cells": [
    {
      "cell_type": "code",
      "execution_count": 5,
      "metadata": {
        "colab": {
          "base_uri": "https://localhost:8080/"
        },
        "id": "4jp5ODWzMKTC",
        "outputId": "c6d8e12e-5108-4db1-c7fb-9a9f1db13024"
      },
      "outputs": [
        {
          "output_type": "stream",
          "name": "stdout",
          "text": [
            "Reading package lists... Done\n",
            "Building dependency tree... Done\n",
            "Reading state information... Done\n",
            "The following additional packages will be installed:\n",
            "  tesseract-ocr-eng tesseract-ocr-osd\n",
            "The following NEW packages will be installed:\n",
            "  tesseract-ocr tesseract-ocr-eng tesseract-ocr-osd\n",
            "0 upgraded, 3 newly installed, 0 to remove and 9 not upgraded.\n",
            "Need to get 4,816 kB of archives.\n",
            "After this operation, 15.6 MB of additional disk space will be used.\n",
            "Get:1 http://archive.ubuntu.com/ubuntu jammy/universe amd64 tesseract-ocr-eng all 1:4.00~git30-7274cfa-1.1 [1,591 kB]\n",
            "Get:2 http://archive.ubuntu.com/ubuntu jammy/universe amd64 tesseract-ocr-osd all 1:4.00~git30-7274cfa-1.1 [2,990 kB]\n",
            "Get:3 http://archive.ubuntu.com/ubuntu jammy/universe amd64 tesseract-ocr amd64 4.1.1-2.1build1 [236 kB]\n",
            "Fetched 4,816 kB in 1s (4,793 kB/s)\n",
            "Selecting previously unselected package tesseract-ocr-eng.\n",
            "(Reading database ... 120493 files and directories currently installed.)\n",
            "Preparing to unpack .../tesseract-ocr-eng_1%3a4.00~git30-7274cfa-1.1_all.deb ...\n",
            "Unpacking tesseract-ocr-eng (1:4.00~git30-7274cfa-1.1) ...\n",
            "Selecting previously unselected package tesseract-ocr-osd.\n",
            "Preparing to unpack .../tesseract-ocr-osd_1%3a4.00~git30-7274cfa-1.1_all.deb ...\n",
            "Unpacking tesseract-ocr-osd (1:4.00~git30-7274cfa-1.1) ...\n",
            "Selecting previously unselected package tesseract-ocr.\n",
            "Preparing to unpack .../tesseract-ocr_4.1.1-2.1build1_amd64.deb ...\n",
            "Unpacking tesseract-ocr (4.1.1-2.1build1) ...\n",
            "Setting up tesseract-ocr-eng (1:4.00~git30-7274cfa-1.1) ...\n",
            "Setting up tesseract-ocr-osd (1:4.00~git30-7274cfa-1.1) ...\n",
            "Setting up tesseract-ocr (4.1.1-2.1build1) ...\n",
            "Processing triggers for man-db (2.10.2-1) ...\n",
            "Reading package lists... Done\n",
            "Building dependency tree... Done\n",
            "Reading state information... Done\n",
            "The following additional packages will be installed:\n",
            "  libarchive-dev libleptonica-dev\n",
            "The following NEW packages will be installed:\n",
            "  libarchive-dev libleptonica-dev libtesseract-dev\n",
            "0 upgraded, 3 newly installed, 0 to remove and 9 not upgraded.\n",
            "Need to get 3,743 kB of archives.\n",
            "After this operation, 16.0 MB of additional disk space will be used.\n",
            "Get:1 http://archive.ubuntu.com/ubuntu jammy/main amd64 libarchive-dev amd64 3.6.0-1ubuntu1 [581 kB]\n",
            "Get:2 http://archive.ubuntu.com/ubuntu jammy/universe amd64 libleptonica-dev amd64 1.82.0-3build1 [1,562 kB]\n",
            "Get:3 http://archive.ubuntu.com/ubuntu jammy/universe amd64 libtesseract-dev amd64 4.1.1-2.1build1 [1,600 kB]\n",
            "Fetched 3,743 kB in 1s (4,440 kB/s)\n",
            "Selecting previously unselected package libarchive-dev:amd64.\n",
            "(Reading database ... 120540 files and directories currently installed.)\n",
            "Preparing to unpack .../libarchive-dev_3.6.0-1ubuntu1_amd64.deb ...\n",
            "Unpacking libarchive-dev:amd64 (3.6.0-1ubuntu1) ...\n",
            "Selecting previously unselected package libleptonica-dev.\n",
            "Preparing to unpack .../libleptonica-dev_1.82.0-3build1_amd64.deb ...\n",
            "Unpacking libleptonica-dev (1.82.0-3build1) ...\n",
            "Selecting previously unselected package libtesseract-dev:amd64.\n",
            "Preparing to unpack .../libtesseract-dev_4.1.1-2.1build1_amd64.deb ...\n",
            "Unpacking libtesseract-dev:amd64 (4.1.1-2.1build1) ...\n",
            "Setting up libleptonica-dev (1.82.0-3build1) ...\n",
            "Setting up libarchive-dev:amd64 (3.6.0-1ubuntu1) ...\n",
            "Setting up libtesseract-dev:amd64 (4.1.1-2.1build1) ...\n",
            "Processing triggers for man-db (2.10.2-1) ...\n",
            "Requirement already satisfied: pytesseract in /usr/local/lib/python3.10/dist-packages (0.3.10)\n",
            "Requirement already satisfied: pillow in /usr/local/lib/python3.10/dist-packages (9.4.0)\n",
            "Requirement already satisfied: packaging>=21.3 in /usr/local/lib/python3.10/dist-packages (from pytesseract) (23.1)\n"
          ]
        }
      ],
      "source": [
        "!apt install tesseract-ocr\n",
        "!apt install libtesseract-dev\n",
        "!pip install pytesseract pillow"
      ]
    },
    {
      "cell_type": "code",
      "source": [
        "import pytesseract\n",
        "from PIL import Image\n",
        "import re\n",
        "import os\n",
        "import pandas as pd\n",
        "\n",
        "from google.colab import drive\n",
        "drive.mount('/content/drive')\n",
        "\n",
        "def process_image(image_path):\n",
        "    img = Image.open(image_path)\n",
        "    extracted_text = pytesseract.image_to_string(img)\n",
        "\n",
        "    def extract_info_from_text(text):\n",
        "        word, part_of_speech, definition, example, level = None, None, None, None, None\n",
        "\n",
        "        word_pos_pattern = r'WORD OF THE DAY\\s*([^\\n(]+)\\s*\\(([^)]+)\\)'\n",
        "        definition_pattern = r'(?<=\\(noun\\)\\s)(.*?)(?=(Eg:|WORD OF THE DAY FOR))'\n",
        "        example_pattern = r'Eg:(.*?)(?=WORD OF THE DAY FOR)'\n",
        "\n",
        "        word_pos_match = re.search(word_pos_pattern, text)\n",
        "        if word_pos_match:\n",
        "            word = word_pos_match.group(1).strip()\n",
        "            part_of_speech = word_pos_match.group(2).strip()\n",
        "\n",
        "        definition_match = re.search(definition_pattern, text, re.DOTALL)\n",
        "        if definition_match:\n",
        "            definition = definition_match.group(1).strip()\n",
        "\n",
        "        example_match = re.search(example_pattern, text, re.DOTALL)\n",
        "        if example_match:\n",
        "            example = example_match.group(1).strip()\n",
        "\n",
        "        if \"BEGINNER\" in text.upper():\n",
        "            level = \"Beginner\"\n",
        "        elif \"ADVANCE\" in text.upper():\n",
        "            level = \"Advance\"\n",
        "        elif \"INTERMEDIATE\" in text.upper():\n",
        "            level = \"Intermediate\"\n",
        "\n",
        "        return word, part_of_speech, definition, example, level\n",
        "\n",
        "    word, part_of_speech, definition, example, level = extract_info_from_text(extracted_text)\n",
        "\n",
        "    definition = \" \".join(definition.split())\n",
        "    example = \" \".join(example.split())\n",
        "\n",
        "    return word, part_of_speech, definition, example, level\n",
        "\n",
        "images_directory = '/content/drive/MyDrive/Ed-Tech Automation'\n",
        "\n",
        "words, parts_of_speech, definitions, examples, levels = [], [], [], [], []\n",
        "\n",
        "for filename in os.listdir(images_directory):\n",
        "    if filename.lower().endswith('.png'):\n",
        "        image_path = os.path.join(images_directory, filename)\n",
        "        word, pos, definition, example, level = process_image(image_path)\n",
        "        words.append(word)\n",
        "        parts_of_speech.append(pos)\n",
        "        definitions.append(definition)\n",
        "        examples.append(example)\n",
        "        levels.append(level)\n",
        "\n",
        "data = {\n",
        "    'Word': words,\n",
        "    'Part of Speech (POS)': parts_of_speech,\n",
        "    'Definition': definitions,\n",
        "    'Example': examples,\n",
        "    'Level': levels\n",
        "}\n",
        "\n",
        "df = pd.DataFrame(data)\n",
        "\n",
        "output_excel_file = '/content/drive/MyDrive/Ed-Tech Automation/output.xlsx'\n",
        "df.to_excel(output_excel_file, index=False)\n",
        "\n",
        "print(\"Data saved to Excel successfully.\")"
      ],
      "metadata": {
        "colab": {
          "base_uri": "https://localhost:8080/"
        },
        "id": "A_KcEsCqKTDd",
        "outputId": "edeb79ed-9b23-4dbc-ea7a-be21d3fd1528"
      },
      "execution_count": 42,
      "outputs": [
        {
          "output_type": "stream",
          "name": "stdout",
          "text": [
            "Drive already mounted at /content/drive; to attempt to forcibly remount, call drive.mount(\"/content/drive\", force_remount=True).\n",
            "Data saved to Excel successfully.\n"
          ]
        }
      ]
    },
    {
      "cell_type": "code",
      "source": [],
      "metadata": {
        "id": "Ml89DSL6SpKs"
      },
      "execution_count": null,
      "outputs": []
    }
  ]
}